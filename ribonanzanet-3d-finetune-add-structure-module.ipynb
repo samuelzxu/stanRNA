{
 "cells": [
  {
   "cell_type": "code",
   "execution_count": null,
   "id": "67580a69",
   "metadata": {},
   "outputs": [],
   "source": [
    "%load_ext autoreload\n",
    "%autoreload 2"
   ]
  },
  {
   "cell_type": "code",
   "execution_count": 25,
   "id": "3c337328",
   "metadata": {
    "_cell_guid": "b1076dfc-b9ad-4769-8c92-a6c4dae69d19",
    "_uuid": "8f2839f25d086af736a60e9eeb907d3b93b6e0e5",
    "execution": {
     "iopub.execute_input": "2025-03-19T04:37:47.342420Z",
     "iopub.status.busy": "2025-03-19T04:37:47.342135Z",
     "iopub.status.idle": "2025-03-19T04:37:51.149871Z",
     "shell.execute_reply": "2025-03-19T04:37:51.148966Z"
    },
    "papermill": {
     "duration": 3.815716,
     "end_time": "2025-03-19T04:37:51.151529",
     "exception": false,
     "start_time": "2025-03-19T04:37:47.335813",
     "status": "completed"
    },
    "tags": []
   },
   "outputs": [],
   "source": [
    "import pandas as pd\n",
    "import torch\n",
    "import matplotlib.pyplot as plt\n",
    "import numpy as np\n",
    "import torch\n",
    "import random\n",
    "import os\n",
    "import pickle\n",
    "from tqdm import tqdm"
   ]
  },
  {
   "cell_type": "code",
   "execution_count": null,
   "id": "3e1653af",
   "metadata": {},
   "outputs": [],
   "source": [
    "from constants import KAGGLE_DATA_PATH, KAGGLE_CIF_PATH, RIBNET_MODULES_PATH, RIBNET_WEIGHTS_PATH"
   ]
  },
  {
   "cell_type": "code",
   "execution_count": 26,
   "id": "76635f7c",
   "metadata": {
    "execution": {
     "iopub.execute_input": "2025-03-19T04:37:51.162338Z",
     "iopub.status.busy": "2025-03-19T04:37:51.161966Z",
     "iopub.status.idle": "2025-03-19T04:37:51.168525Z",
     "shell.execute_reply": "2025-03-19T04:37:51.167954Z"
    },
    "papermill": {
     "duration": 0.01291,
     "end_time": "2025-03-19T04:37:51.169602",
     "exception": false,
     "start_time": "2025-03-19T04:37:51.156692",
     "status": "completed"
    },
    "tags": []
   },
   "outputs": [],
   "source": [
    "#set seed for everything\n",
    "torch.manual_seed(0)\n",
    "np.random.seed(0)\n",
    "random.seed(0)"
   ]
  },
  {
   "cell_type": "markdown",
   "id": "8c180caf",
   "metadata": {
    "papermill": {
     "duration": 0.004288,
     "end_time": "2025-03-19T04:37:51.178400",
     "exception": false,
     "start_time": "2025-03-19T04:37:51.174112",
     "status": "completed"
    },
    "tags": []
   },
   "source": [
    "# Config"
   ]
  },
  {
   "cell_type": "code",
   "execution_count": 27,
   "id": "3e5899f2",
   "metadata": {
    "execution": {
     "iopub.execute_input": "2025-03-19T04:37:51.188105Z",
     "iopub.status.busy": "2025-03-19T04:37:51.187868Z",
     "iopub.status.idle": "2025-03-19T04:37:51.191569Z",
     "shell.execute_reply": "2025-03-19T04:37:51.190947Z"
    },
    "papermill": {
     "duration": 0.009864,
     "end_time": "2025-03-19T04:37:51.192698",
     "exception": false,
     "start_time": "2025-03-19T04:37:51.182834",
     "status": "completed"
    },
    "tags": []
   },
   "outputs": [],
   "source": [
    "config = {\n",
    "    \"seed\": 0,\n",
    "    \"cutoff_date\": \"2020-01-01\",\n",
    "    \"test_cutoff_date\": \"2022-05-01\",\n",
    "    \"max_len\": 384,\n",
    "    \"batch_size\": 1,\n",
    "    \"learning_rate\": 1e-4,\n",
    "    \"weight_decay\": 0.0,\n",
    "    \"mixed_precision\": \"bf16\",\n",
    "    \"model_config_path\": os.path.join(RIBNET_MODULES_PATH, 'configs','pairwise.yaml'),  # Adjust path as needed\n",
    "    \"epochs\": 10,\n",
    "    \"cos_epoch\": 5,\n",
    "    \"loss_power_scale\": 1.0,\n",
    "    \"max_cycles\": 1,\n",
    "    \"grad_clip\": 0.1,\n",
    "    \"gradient_accumulation_steps\": 1,\n",
    "    \"d_clamp\": 30,\n",
    "    \"max_len_filter\": 9999999,\n",
    "    \"min_len_filter\": 10, \n",
    "    \"structural_violation_epoch\": 50,\n",
    "    \"balance_weight\": False,\n",
    "}"
   ]
  },
  {
   "cell_type": "markdown",
   "id": "9cbbfcb3",
   "metadata": {
    "execution": {
     "iopub.execute_input": "2025-02-27T00:35:07.63984Z",
     "iopub.status.busy": "2025-02-27T00:35:07.639563Z",
     "iopub.status.idle": "2025-02-27T00:35:07.643454Z",
     "shell.execute_reply": "2025-02-27T00:35:07.64259Z",
     "shell.execute_reply.started": "2025-02-27T00:35:07.639817Z"
    },
    "papermill": {
     "duration": 0.004287,
     "end_time": "2025-03-19T04:37:51.201537",
     "exception": false,
     "start_time": "2025-03-19T04:37:51.197250",
     "status": "completed"
    },
    "tags": []
   },
   "source": [
    "# Get data and do some data processing¶\n"
   ]
  },
  {
   "cell_type": "code",
   "execution_count": 28,
   "id": "3f1ae983",
   "metadata": {
    "execution": {
     "iopub.execute_input": "2025-03-19T04:37:51.211231Z",
     "iopub.status.busy": "2025-03-19T04:37:51.210967Z",
     "iopub.status.idle": "2025-03-19T04:37:51.522672Z",
     "shell.execute_reply": "2025-03-19T04:37:51.521946Z"
    },
    "papermill": {
     "duration": 0.31836,
     "end_time": "2025-03-19T04:37:51.524311",
     "exception": false,
     "start_time": "2025-03-19T04:37:51.205951",
     "status": "completed"
    },
    "tags": []
   },
   "outputs": [],
   "source": [
    "# Load data\n",
    "train_sequences=pd.read_csv(f\"{KAGGLE_DATA_PATH}/train_sequences.csv\")\n",
    "train_labels=pd.read_csv(f\"{KAGGLE_DATA_PATH}/train_labels.csv\")"
   ]
  },
  {
   "cell_type": "code",
   "execution_count": null,
   "id": "514254f5",
   "metadata": {
    "execution": {
     "iopub.execute_input": "2025-03-19T04:37:51.534959Z",
     "iopub.status.busy": "2025-03-19T04:37:51.534733Z",
     "iopub.status.idle": "2025-03-19T04:37:51.619900Z",
     "shell.execute_reply": "2025-03-19T04:37:51.619101Z"
    },
    "papermill": {
     "duration": 0.091924,
     "end_time": "2025-03-19T04:37:51.621191",
     "exception": false,
     "start_time": "2025-03-19T04:37:51.529267",
     "status": "completed"
    },
    "tags": []
   },
   "outputs": [],
   "source": [
    "train_labels[\"pdb_id\"] = train_labels[\"ID\"].apply(lambda x: x.split(\"_\")[0]+'_'+x.split(\"_\")[1])\n",
    "train_labels[\"pdb_id\"] "
   ]
  },
  {
   "cell_type": "code",
   "execution_count": null,
   "id": "aa132385",
   "metadata": {
    "execution": {
     "iopub.execute_input": "2025-03-19T04:37:51.631732Z",
     "iopub.status.busy": "2025-03-19T04:37:51.631513Z",
     "iopub.status.idle": "2025-03-19T04:37:51.635783Z",
     "shell.execute_reply": "2025-03-19T04:37:51.634968Z"
    },
    "papermill": {
     "duration": 0.010866,
     "end_time": "2025-03-19T04:37:51.636999",
     "exception": false,
     "start_time": "2025-03-19T04:37:51.626133",
     "status": "completed"
    },
    "tags": []
   },
   "outputs": [],
   "source": [
    "float('Nan')"
   ]
  },
  {
   "cell_type": "code",
   "execution_count": null,
   "id": "0eea7c3c",
   "metadata": {
    "execution": {
     "iopub.execute_input": "2025-03-19T04:37:51.649964Z",
     "iopub.status.busy": "2025-03-19T04:37:51.649734Z",
     "iopub.status.idle": "2025-03-19T04:37:59.959838Z",
     "shell.execute_reply": "2025-03-19T04:37:59.958975Z"
    },
    "papermill": {
     "duration": 8.318647,
     "end_time": "2025-03-19T04:37:59.961111",
     "exception": false,
     "start_time": "2025-03-19T04:37:51.642464",
     "status": "completed"
    },
    "tags": []
   },
   "outputs": [],
   "source": [
    "all_xyz=[]\n",
    "\n",
    "for pdb_id in tqdm(train_sequences['target_id']):\n",
    "    df = train_labels[train_labels[\"pdb_id\"]==pdb_id]\n",
    "    #break\n",
    "    xyz=df[['x_1','y_1','z_1']].to_numpy().astype('float32')\n",
    "    xyz[xyz<-1e17]=float('Nan');\n",
    "    all_xyz.append(xyz)\n",
    "\n",
    "\n",
    "df"
   ]
  },
  {
   "cell_type": "code",
   "execution_count": null,
   "id": "f1c3c08e",
   "metadata": {
    "execution": {
     "iopub.execute_input": "2025-03-19T04:37:59.988587Z",
     "iopub.status.busy": "2025-03-19T04:37:59.988359Z",
     "iopub.status.idle": "2025-03-19T04:38:00.004748Z",
     "shell.execute_reply": "2025-03-19T04:38:00.004031Z"
    },
    "papermill": {
     "duration": 0.030994,
     "end_time": "2025-03-19T04:38:00.005974",
     "exception": false,
     "start_time": "2025-03-19T04:37:59.974980",
     "status": "completed"
    },
    "tags": []
   },
   "outputs": [],
   "source": [
    "\n",
    "# filter the data\n",
    "# Filter and process data\n",
    "filter_nan = []\n",
    "max_len = 0\n",
    "for xyz in all_xyz:\n",
    "    if len(xyz) > max_len:\n",
    "        max_len = len(xyz)\n",
    "\n",
    "    #fill -1e18 masked sequences to nans\n",
    "    \n",
    "    #sugar_xyz = np.stack([nt_xyz['sugar_ring'] for nt_xyz in xyz], axis=0)\n",
    "    filter_nan.append((np.isnan(xyz).mean() <= 0.5) & \\\n",
    "                      (len(xyz)<config['max_len_filter']) & \\\n",
    "                      (len(xyz)>config['min_len_filter']))\n",
    "\n",
    "print(f\"Longest sequence in train: {max_len}\")\n",
    "\n",
    "filter_nan = np.array(filter_nan)\n",
    "non_nan_indices = np.arange(len(filter_nan))[filter_nan]\n",
    "\n",
    "train_sequences = train_sequences.loc[non_nan_indices].reset_index(drop=True)\n",
    "all_xyz=[all_xyz[i] for i in non_nan_indices]"
   ]
  },
  {
   "cell_type": "code",
   "execution_count": 33,
   "id": "06a7a963",
   "metadata": {
    "execution": {
     "iopub.execute_input": "2025-03-19T04:38:00.033365Z",
     "iopub.status.busy": "2025-03-19T04:38:00.033118Z",
     "iopub.status.idle": "2025-03-19T04:38:00.036968Z",
     "shell.execute_reply": "2025-03-19T04:38:00.036181Z"
    },
    "papermill": {
     "duration": 0.018634,
     "end_time": "2025-03-19T04:38:00.038348",
     "exception": false,
     "start_time": "2025-03-19T04:38:00.019714",
     "status": "completed"
    },
    "tags": []
   },
   "outputs": [],
   "source": [
    "#pack data into a dictionary\n",
    "\n",
    "data={\n",
    "      \"sequence\":train_sequences['sequence'].to_list(),\n",
    "      \"temporal_cutoff\": train_sequences['temporal_cutoff'].to_list(),\n",
    "      \"description\": train_sequences['description'].to_list(),\n",
    "      \"all_sequences\": train_sequences['all_sequences'].to_list(),\n",
    "      \"xyz\": all_xyz\n",
    "}"
   ]
  },
  {
   "cell_type": "markdown",
   "id": "63f81663",
   "metadata": {
    "papermill": {
     "duration": 0.012608,
     "end_time": "2025-03-19T04:38:00.063878",
     "exception": false,
     "start_time": "2025-03-19T04:38:00.051270",
     "status": "completed"
    },
    "tags": []
   },
   "source": [
    "# Split train data into train/val/test¶\n",
    "We will simply do a temporal split, because that's how testing is done in structural biology in general (in actual blind tests)"
   ]
  },
  {
   "cell_type": "code",
   "execution_count": 34,
   "id": "a17d22ae",
   "metadata": {
    "execution": {
     "iopub.execute_input": "2025-03-19T04:38:00.090277Z",
     "iopub.status.busy": "2025-03-19T04:38:00.089994Z",
     "iopub.status.idle": "2025-03-19T04:38:00.096639Z",
     "shell.execute_reply": "2025-03-19T04:38:00.095966Z"
    },
    "papermill": {
     "duration": 0.02139,
     "end_time": "2025-03-19T04:38:00.097885",
     "exception": false,
     "start_time": "2025-03-19T04:38:00.076495",
     "status": "completed"
    },
    "tags": []
   },
   "outputs": [],
   "source": [
    "# Split data into train and test\n",
    "all_index = np.arange(len(data['sequence']))\n",
    "cutoff_date = pd.Timestamp(config['cutoff_date'])\n",
    "test_cutoff_date = pd.Timestamp(config['test_cutoff_date'])\n",
    "train_index = [i for i, d in enumerate(data['temporal_cutoff']) if pd.Timestamp(d) <= cutoff_date]\n",
    "test_index = [i for i, d in enumerate(data['temporal_cutoff']) if pd.Timestamp(d) > cutoff_date and pd.Timestamp(d) <= test_cutoff_date]"
   ]
  },
  {
   "cell_type": "code",
   "execution_count": null,
   "id": "602f4ff2",
   "metadata": {
    "execution": {
     "iopub.execute_input": "2025-03-19T04:38:00.124863Z",
     "iopub.status.busy": "2025-03-19T04:38:00.124645Z",
     "iopub.status.idle": "2025-03-19T04:38:00.128605Z",
     "shell.execute_reply": "2025-03-19T04:38:00.127913Z"
    },
    "papermill": {
     "duration": 0.018436,
     "end_time": "2025-03-19T04:38:00.129723",
     "exception": false,
     "start_time": "2025-03-19T04:38:00.111287",
     "status": "completed"
    },
    "tags": []
   },
   "outputs": [],
   "source": [
    "print(f\"Train size: {len(train_index)}\")\n",
    "print(f\"Test size: {len(test_index)}\")"
   ]
  },
  {
   "cell_type": "markdown",
   "id": "7707ce07",
   "metadata": {
    "papermill": {
     "duration": 0.012448,
     "end_time": "2025-03-19T04:38:00.155079",
     "exception": false,
     "start_time": "2025-03-19T04:38:00.142631",
     "status": "completed"
    },
    "tags": []
   },
   "source": [
    "# Get pytorch dataset¶"
   ]
  },
  {
   "cell_type": "code",
   "execution_count": 36,
   "id": "f3f010d7",
   "metadata": {
    "execution": {
     "iopub.execute_input": "2025-03-19T04:38:00.181253Z",
     "iopub.status.busy": "2025-03-19T04:38:00.181026Z",
     "iopub.status.idle": "2025-03-19T04:38:00.187376Z",
     "shell.execute_reply": "2025-03-19T04:38:00.186701Z"
    },
    "papermill": {
     "duration": 0.020867,
     "end_time": "2025-03-19T04:38:00.188603",
     "exception": false,
     "start_time": "2025-03-19T04:38:00.167736",
     "status": "completed"
    },
    "tags": []
   },
   "outputs": [],
   "source": [
    "from torch.utils.data import Dataset, DataLoader\n",
    "from ast import literal_eval\n",
    "\n",
    "def get_ct(bp,s):\n",
    "    ct_matrix=np.zeros((len(s),len(s)))\n",
    "    for b in bp:\n",
    "        ct_matrix[b[0]-1,b[1]-1]=1\n",
    "    return ct_matrix\n",
    "\n",
    "class RNA3D_Dataset(Dataset):\n",
    "    def __init__(self,indices,data):\n",
    "        self.indices=indices\n",
    "        self.data=data\n",
    "        self.tokens={nt:i for i,nt in enumerate('ACGU')}\n",
    "\n",
    "    def __len__(self):\n",
    "        return len(self.indices)\n",
    "    \n",
    "    def __getitem__(self, idx):\n",
    "\n",
    "        idx=self.indices[idx]\n",
    "        sequence=[self.tokens[nt] for nt in (self.data['sequence'][idx])]\n",
    "        sequence=np.array(sequence)\n",
    "        sequence=torch.tensor(sequence)\n",
    "\n",
    "        #get C1' xyz\n",
    "        xyz=self.data['xyz'][idx]\n",
    "        xyz=torch.tensor(np.array(xyz))\n",
    "\n",
    "\n",
    "        if len(sequence)>config['max_len']:\n",
    "            crop_start=np.random.randint(len(sequence)-config['max_len'])\n",
    "            crop_end=crop_start+config['max_len']\n",
    "\n",
    "            sequence=sequence[crop_start:crop_end]\n",
    "            xyz=xyz[crop_start:crop_end]\n",
    "        \n",
    "\n",
    "        return {'sequence':sequence,\n",
    "                'xyz':xyz}"
   ]
  },
  {
   "cell_type": "code",
   "execution_count": 37,
   "id": "995778ad",
   "metadata": {
    "execution": {
     "iopub.execute_input": "2025-03-19T04:38:00.214557Z",
     "iopub.status.busy": "2025-03-19T04:38:00.214360Z",
     "iopub.status.idle": "2025-03-19T04:38:00.217194Z",
     "shell.execute_reply": "2025-03-19T04:38:00.216561Z"
    },
    "papermill": {
     "duration": 0.017194,
     "end_time": "2025-03-19T04:38:00.218435",
     "exception": false,
     "start_time": "2025-03-19T04:38:00.201241",
     "status": "completed"
    },
    "tags": []
   },
   "outputs": [],
   "source": [
    "train_dataset=RNA3D_Dataset(train_index,data)\n",
    "val_dataset=RNA3D_Dataset(test_index,data)"
   ]
  },
  {
   "cell_type": "code",
   "execution_count": null,
   "id": "b9393a86",
   "metadata": {
    "execution": {
     "iopub.execute_input": "2025-03-19T04:38:00.244576Z",
     "iopub.status.busy": "2025-03-19T04:38:00.244377Z",
     "iopub.status.idle": "2025-03-19T04:38:00.731630Z",
     "shell.execute_reply": "2025-03-19T04:38:00.730753Z"
    },
    "papermill": {
     "duration": 0.501935,
     "end_time": "2025-03-19T04:38:00.733084",
     "exception": false,
     "start_time": "2025-03-19T04:38:00.231149",
     "status": "completed"
    },
    "tags": []
   },
   "outputs": [],
   "source": [
    "import plotly.graph_objects as go\n",
    "import numpy as np\n",
    "\n",
    "\n",
    "\n",
    "# Example: Generate an Nx3 matrix\n",
    "xyz = train_dataset[200]['xyz']  # Replace this with your actual Nx3 data\n",
    "N = len(xyz)\n",
    "\n",
    "\n",
    "for _ in range(2): #plot twice because it doesnt show up on first try for some reason\n",
    "    # Extract columns\n",
    "    x, y, z = xyz[:, 0], xyz[:, 1], xyz[:, 2]\n",
    "    \n",
    "    # Create the 3D scatter plot\n",
    "    fig = go.Figure(data=[go.Scatter3d(\n",
    "        x=x, y=y, z=z,\n",
    "        mode='markers',\n",
    "        marker=dict(\n",
    "            size=5,\n",
    "            color=z,  # Coloring based on z-value\n",
    "            colorscale='Viridis',  # Choose a colorscale\n",
    "            opacity=0.8\n",
    "        )\n",
    "    )])\n",
    "    \n",
    "    # Customize layout\n",
    "    fig.update_layout(\n",
    "        scene=dict(\n",
    "            xaxis_title=\"X\",\n",
    "            yaxis_title=\"Y\",\n",
    "            zaxis_title=\"Z\"\n",
    "        ),\n",
    "        title=\"3D Scatter Plot\"\n",
    "    )\n",
    "\n",
    "fig.show()\n",
    "    "
   ]
  },
  {
   "cell_type": "code",
   "execution_count": 39,
   "id": "28d25b51",
   "metadata": {
    "execution": {
     "iopub.execute_input": "2025-03-19T04:38:00.760452Z",
     "iopub.status.busy": "2025-03-19T04:38:00.760221Z",
     "iopub.status.idle": "2025-03-19T04:38:00.763787Z",
     "shell.execute_reply": "2025-03-19T04:38:00.763157Z"
    },
    "papermill": {
     "duration": 0.018436,
     "end_time": "2025-03-19T04:38:00.764893",
     "exception": false,
     "start_time": "2025-03-19T04:38:00.746457",
     "status": "completed"
    },
    "tags": []
   },
   "outputs": [],
   "source": [
    "train_loader=DataLoader(train_dataset,batch_size=1,shuffle=True)\n",
    "val_loader=DataLoader(val_dataset,batch_size=1,shuffle=False)"
   ]
  },
  {
   "cell_type": "code",
   "execution_count": null,
   "id": "72145212",
   "metadata": {},
   "outputs": [],
   "source": [
    "!ls"
   ]
  },
  {
   "cell_type": "markdown",
   "id": "d51df7e1",
   "metadata": {
    "papermill": {
     "duration": 0.012741,
     "end_time": "2025-03-19T04:38:00.790420",
     "exception": false,
     "start_time": "2025-03-19T04:38:00.777679",
     "status": "completed"
    },
    "tags": []
   },
   "source": [
    "# Get RibonanzaNet¶\n",
    "We will add a linear layer to predict xyz of C1' atoms"
   ]
  },
  {
   "cell_type": "code",
   "execution_count": 41,
   "id": "203e0338",
   "metadata": {
    "execution": {
     "iopub.execute_input": "2025-03-19T04:38:00.842852Z",
     "iopub.status.busy": "2025-03-19T04:38:00.842620Z",
     "iopub.status.idle": "2025-03-19T04:38:05.793745Z",
     "shell.execute_reply": "2025-03-19T04:38:05.792991Z"
    },
    "papermill": {
     "duration": 4.966775,
     "end_time": "2025-03-19T04:38:05.795540",
     "exception": false,
     "start_time": "2025-03-19T04:38:00.828765",
     "status": "completed"
    },
    "tags": []
   },
   "outputs": [],
   "source": [
    "import sys\n",
    "from constants import RIBNET_MODULES_PATH, RIBNET_WEIGHTS_PATH\n",
    "sys.path.append(RIBNET_MODULES_PATH)\n",
    "\n",
    "import torch.nn as nn\n",
    "from Network import RibonanzaNet, MultiHeadAttention\n",
    "import yaml\n"
   ]
  },
  {
   "cell_type": "code",
   "execution_count": 42,
   "id": "52215a6d",
   "metadata": {},
   "outputs": [],
   "source": [
    "\n",
    "class SimpleStructureModule(nn.Module):\n",
    "\n",
    "    def __init__(self, d_model, nhead, \n",
    "                 dim_feedforward, pairwise_dimension, dropout=0.1,\n",
    "                 ):\n",
    "        super(SimpleStructureModule, self).__init__()\n",
    "        #self.self_attn = nn.MultiheadAttention(d_model, nhead, dropout=dropout)\n",
    "        self.self_attn = MultiHeadAttention(d_model, nhead, d_model//nhead, d_model//nhead, dropout=dropout)\n",
    "\n",
    "\n",
    "        self.linear1 = nn.Linear(d_model, dim_feedforward)\n",
    "        self.dropout = nn.Dropout(dropout)\n",
    "        self.linear2 = nn.Linear(dim_feedforward, d_model)\n",
    "\n",
    "        self.norm1 = nn.LayerNorm(d_model)\n",
    "        self.norm2 = nn.LayerNorm(d_model)\n",
    "        self.norm3 = nn.LayerNorm(d_model)\n",
    "        #self.norm4 = nn.LayerNorm(d_model)\n",
    "        self.dropout1 = nn.Dropout(dropout)\n",
    "        self.dropout2 = nn.Dropout(dropout)\n",
    "        self.dropout3 = nn.Dropout(dropout)\n",
    "        #self.dropout4 = nn.Dropout(dropout)\n",
    "\n",
    "        self.pairwise2heads=nn.Linear(pairwise_dimension,nhead,bias=False)\n",
    "        self.pairwise_norm=nn.LayerNorm(pairwise_dimension)\n",
    "\n",
    "        self.distance2heads=nn.Linear(1,nhead,bias=False)\n",
    "        #self.pairwise_norm=nn.LayerNorm(pairwise_dimension)\n",
    "\n",
    "        self.activation = nn.GELU()\n",
    "\n",
    "        \n",
    "    def custom(self, module):\n",
    "        def custom_forward(*inputs):\n",
    "            inputs = module(*inputs)\n",
    "            return inputs\n",
    "        return custom_forward\n",
    "\n",
    "    def forward(self, input):\n",
    "        src , pairwise_features, pred_t, src_mask = input\n",
    "        \n",
    "        #src = src*src_mask.float().unsqueeze(-1)\n",
    "\n",
    "        pairwise_bias=self.pairwise2heads(self.pairwise_norm(pairwise_features)).permute(0,3,1,2)\n",
    "\n",
    "        \n",
    "        distance_matrix=pred_t[None,:,:]-pred_t[:,None,:]\n",
    "        distance_matrix=(distance_matrix**2).sum(-1).clip(2,37**2).sqrt()\n",
    "        distance_matrix=distance_matrix[None,:,:,None]\n",
    "        distance_bias=self.distance2heads(distance_matrix).permute(0,3,1,2)\n",
    "\n",
    "        pairwise_bias=pairwise_bias+distance_bias\n",
    "\n",
    "        #print(src.shape)\n",
    "        src2,attention_weights = self.self_attn(src, src, src, mask=pairwise_bias, src_mask=src_mask)\n",
    "        \n",
    "\n",
    "        src = src + self.dropout1(src2)\n",
    "        src = self.norm1(src)\n",
    "        src2 = self.linear2(self.dropout(self.activation(self.linear1(src))))\n",
    "        src = src + self.dropout2(src2)\n",
    "        src = self.norm2(src)\n",
    "        src = src + self.dropout3(src2)\n",
    "        src = self.norm3(src)\n",
    "\n",
    "        return src\n",
    "\n",
    "\n",
    "\n",
    "class Config:\n",
    "    def __init__(self, **entries):\n",
    "        self.__dict__.update(entries)\n",
    "        self.entries=entries\n",
    "\n",
    "    def print(self):\n",
    "        print(self.entries)\n",
    "\n",
    "def load_config_from_yaml(file_path):\n",
    "    with open(file_path, 'r') as file:\n",
    "        config = yaml.safe_load(file)\n",
    "    return Config(**config)\n",
    "\n",
    "\n",
    "\n",
    "class finetuned_RibonanzaNet(RibonanzaNet):\n",
    "    def __init__(self, config, pretrained=False):\n",
    "        config.dropout=0.1\n",
    "        config.use_grad_checkpoint=True\n",
    "        super(finetuned_RibonanzaNet, self).__init__(config)\n",
    "        if pretrained:\n",
    "            self.load_state_dict(torch.load(os.path.join(RIBNET_WEIGHTS_PATH, \"RibonanzaNet.pt\"),map_location='cpu'))\n",
    "        # self.ct_predictor=nn.Sequential(nn.Linear(64,256),\n",
    "        #                                 nn.ReLU(),\n",
    "        #                                 nn.Linear(256,64),\n",
    "        #                                 nn.ReLU(),\n",
    "        #                                 nn.Linear(64,1)) \n",
    "        self.dropout=nn.Dropout(0.0)\n",
    "\n",
    "        self.structure_module=SimpleStructureModule(d_model=256, nhead=8, \n",
    "                 dim_feedforward=1024, pairwise_dimension=64)\n",
    "        \n",
    "        self.xyz_predictor=nn.Linear(256,3)\n",
    "\n",
    "    def custom(self, module):\n",
    "        def custom_forward(*inputs):\n",
    "            inputs = module(*inputs)\n",
    "            return inputs\n",
    "        return custom_forward\n",
    "    \n",
    "    def forward(self,src):\n",
    "        \n",
    "        #with torch.no_grad():\n",
    "        sequence_features, pairwise_features=self.get_embeddings(src, torch.ones_like(src).long().to(src.device))\n",
    "        \n",
    "        xyzs=[]\n",
    "        xyz=torch.zeros(sequence_features.shape[1],3).cuda().float()\n",
    "        #print(xyz.shape)\n",
    "        #xyz=self.xyz_predictor(sequence_features)\n",
    "\n",
    "        for i in range(9):\n",
    "            sequence_features=self.structure_module([sequence_features,pairwise_features,xyz,None])\n",
    "            xyz=xyz+self.xyz_predictor(sequence_features).squeeze(0)\n",
    "            xyzs.append(xyz)\n",
    "            \n",
    "        \n",
    "        return xyzs\n"
   ]
  },
  {
   "cell_type": "code",
   "execution_count": null,
   "id": "ec7896f1",
   "metadata": {},
   "outputs": [],
   "source": [
    "\n",
    "model=finetuned_RibonanzaNet(load_config_from_yaml(\"ribnet/configs/pairwise.yaml\"),pretrained=True).cuda()\n",
    "\n",
    "#model(torch.ones(1,10).long().cuda())"
   ]
  },
  {
   "cell_type": "markdown",
   "id": "51b97c88",
   "metadata": {
    "papermill": {
     "duration": 0.012715,
     "end_time": "2025-03-19T04:38:05.874999",
     "exception": false,
     "start_time": "2025-03-19T04:38:05.862284",
     "status": "completed"
    },
    "tags": []
   },
   "source": [
    "# Training loop¶\n",
    "we will use dRMSD loss on the predicted xyz. the loss function is invariant to translations, rotations, and reflections. because dRMSD is invariant to reflections, it cannot distinguish chiral structures, so there may be better loss functions"
   ]
  },
  {
   "cell_type": "code",
   "execution_count": 17,
   "id": "c8a78b3d",
   "metadata": {
    "execution": {
     "iopub.execute_input": "2025-03-19T04:38:05.902513Z",
     "iopub.status.busy": "2025-03-19T04:38:05.902122Z",
     "iopub.status.idle": "2025-03-19T04:38:05.912775Z",
     "shell.execute_reply": "2025-03-19T04:38:05.912066Z"
    },
    "papermill": {
     "duration": 0.025707,
     "end_time": "2025-03-19T04:38:05.913942",
     "exception": false,
     "start_time": "2025-03-19T04:38:05.888235",
     "status": "completed"
    },
    "tags": []
   },
   "outputs": [],
   "source": [
    "def calculate_distance_matrix(X,Y,epsilon=1e-4):\n",
    "    return (torch.square(X[:,None]-Y[None,:])+epsilon).sum(-1).sqrt()\n",
    "\n",
    "\n",
    "def dRMSD(pred_x,\n",
    "          pred_y,\n",
    "          gt_x,\n",
    "          gt_y,\n",
    "          epsilon=1e-4,Z=10,d_clamp=None):\n",
    "    pred_dm=calculate_distance_matrix(pred_x,pred_y)\n",
    "    gt_dm=calculate_distance_matrix(gt_x,gt_y)\n",
    "\n",
    "\n",
    "\n",
    "    mask=~torch.isnan(gt_dm)\n",
    "    mask[torch.eye(mask.shape[0]).bool()]=False\n",
    "\n",
    "    if d_clamp is not None:\n",
    "        rmsd=(torch.square(pred_dm[mask]-gt_dm[mask])+epsilon).clip(0,d_clamp**2)\n",
    "    else:\n",
    "        rmsd=torch.square(pred_dm[mask]-gt_dm[mask])+epsilon\n",
    "\n",
    "    return rmsd.sqrt().mean()/Z\n",
    "\n",
    "def local_dRMSD(pred_x,\n",
    "          pred_y,\n",
    "          gt_x,\n",
    "          gt_y,\n",
    "          epsilon=1e-4,Z=10,d_clamp=30):\n",
    "    pred_dm=calculate_distance_matrix(pred_x,pred_y)\n",
    "    gt_dm=calculate_distance_matrix(gt_x,gt_y)\n",
    "\n",
    "\n",
    "\n",
    "    mask=(~torch.isnan(gt_dm))*(gt_dm<d_clamp)\n",
    "    mask[torch.eye(mask.shape[0]).bool()]=False\n",
    "\n",
    "\n",
    "\n",
    "    rmsd=torch.square(pred_dm[mask]-gt_dm[mask])+epsilon\n",
    "    # rmsd=(torch.square(pred_dm[mask]-gt_dm[mask])+epsilon).sqrt()/Z\n",
    "    #rmsd=torch.abs(pred_dm[mask]-gt_dm[mask])/Z\n",
    "    return rmsd.sqrt().mean()/Z\n",
    "\n",
    "def dRMAE(pred_x,\n",
    "          pred_y,\n",
    "          gt_x,\n",
    "          gt_y,\n",
    "          epsilon=1e-4,Z=10,d_clamp=None):\n",
    "    pred_dm=calculate_distance_matrix(pred_x,pred_y)\n",
    "    gt_dm=calculate_distance_matrix(gt_x,gt_y)\n",
    "\n",
    "\n",
    "\n",
    "    mask=~torch.isnan(gt_dm)\n",
    "    mask[torch.eye(mask.shape[0]).bool()]=False\n",
    "\n",
    "    rmsd=torch.abs(pred_dm[mask]-gt_dm[mask])\n",
    "\n",
    "    return rmsd.mean()/Z\n",
    "\n",
    "import torch\n",
    "\n",
    "def align_svd_mae(input, target, Z=10):\n",
    "    \"\"\"\n",
    "    Aligns the input (Nx3) to target (Nx3) using SVD-based Procrustes alignment\n",
    "    and computes RMSD loss.\n",
    "    \n",
    "    Args:\n",
    "        input (torch.Tensor): Nx3 tensor representing the input points.\n",
    "        target (torch.Tensor): Nx3 tensor representing the target points.\n",
    "    \n",
    "    Returns:\n",
    "        aligned_input (torch.Tensor): Nx3 aligned input.\n",
    "        rmsd_loss (torch.Tensor): RMSD loss.\n",
    "    \"\"\"\n",
    "    assert input.shape == target.shape, \"Input and target must have the same shape\"\n",
    "\n",
    "    #mask \n",
    "    mask=~torch.isnan(target.sum(-1))\n",
    "\n",
    "    input=input[mask]\n",
    "    target=target[mask]\n",
    "    \n",
    "    # Compute centroids\n",
    "    centroid_input = input.mean(dim=0, keepdim=True)\n",
    "    centroid_target = target.mean(dim=0, keepdim=True)\n",
    "\n",
    "    # Center the points\n",
    "    input_centered = input - centroid_input.detach()\n",
    "    target_centered = target - centroid_target\n",
    "\n",
    "    # Compute covariance matrix\n",
    "    cov_matrix = input_centered.T @ target_centered\n",
    "\n",
    "    # SVD to find optimal rotation\n",
    "    U, S, Vt = torch.svd(cov_matrix)\n",
    "\n",
    "    # Compute rotation matrix\n",
    "    R = Vt @ U.T\n",
    "\n",
    "    # Ensure a proper rotation (det(R) = 1, no reflection)\n",
    "    if torch.det(R) < 0:\n",
    "        Vt[-1, :] *= -1\n",
    "        R = Vt @ U.T\n",
    "\n",
    "    # Rotate input\n",
    "    aligned_input = (input_centered @ R.T.detach()) + centroid_target.detach()\n",
    "\n",
    "    # # Compute RMSD loss\n",
    "    # rmsd_loss = torch.sqrt(((aligned_input - target) ** 2).mean())\n",
    "\n",
    "    # rmsd_loss = torch.sqrt(((aligned_input - target) ** 2).mean())\n",
    "    \n",
    "    # return aligned_input, rmsd_loss\n",
    "    return torch.abs(aligned_input-target).mean()/Z"
   ]
  },
  {
   "cell_type": "code",
   "execution_count": 18,
   "id": "d082ef99",
   "metadata": {
    "execution": {
     "iopub.execute_input": "2025-03-19T04:38:05.940928Z",
     "iopub.status.busy": "2025-03-19T04:38:05.940693Z",
     "iopub.status.idle": "2025-03-19T04:38:05.943657Z",
     "shell.execute_reply": "2025-03-19T04:38:05.943048Z"
    },
    "papermill": {
     "duration": 0.017543,
     "end_time": "2025-03-19T04:38:05.944799",
     "exception": false,
     "start_time": "2025-03-19T04:38:05.927256",
     "status": "completed"
    },
    "tags": []
   },
   "outputs": [],
   "source": [
    "#pred_xyz=model(sequence)"
   ]
  },
  {
   "cell_type": "code",
   "execution_count": null,
   "id": "a52d9e6e",
   "metadata": {
    "execution": {
     "iopub.execute_input": "2025-03-19T04:38:05.997836Z",
     "iopub.status.busy": "2025-03-19T04:38:05.997626Z",
     "iopub.status.idle": "2025-03-19T06:44:47.541298Z",
     "shell.execute_reply": "2025-03-19T06:44:47.540591Z"
    },
    "papermill": {
     "duration": 7601.558893,
     "end_time": "2025-03-19T06:44:47.542784",
     "exception": false,
     "start_time": "2025-03-19T04:38:05.983891",
     "status": "completed"
    },
    "tags": []
   },
   "outputs": [],
   "source": [
    "from tqdm import tqdm\n",
    "from torch.amp import GradScaler\n",
    "\n",
    "epochs=50\n",
    "cos_epoch=35\n",
    "\n",
    "\n",
    "best_loss=np.inf\n",
    "optimizer = torch.optim.Adam(model.parameters(), weight_decay=0.0, lr=0.0001) #no weight decay following AF\n",
    "\n",
    "batch_size=1\n",
    "\n",
    "#for cycle in range(2):\n",
    "\n",
    "criterion=torch.nn.BCEWithLogitsLoss(reduction='none')\n",
    "\n",
    "scaler = GradScaler()\n",
    "\n",
    "schedule=torch.optim.lr_scheduler.CosineAnnealingLR(optimizer, T_max=(epochs-cos_epoch)*len(train_loader)//batch_size)\n",
    "\n",
    "best_val_loss=99999999999\n",
    "for epoch in range(epochs):\n",
    "    model.train()\n",
    "    tbar=tqdm(train_loader)\n",
    "    total_loss=0\n",
    "    oom=0\n",
    "    for idx, batch in enumerate(tbar):\n",
    "        #try:\n",
    "        sequence=batch['sequence'].cuda()\n",
    "        gt_xyz=batch['xyz'].cuda().squeeze()\n",
    "\n",
    "        #with torch.autocast(device_type='cuda', dtype=torch.float16):\n",
    "        pred_xyzs=model(sequence)#.squeeze()\n",
    "\n",
    "        loss=0\n",
    "        for pred_xyz in pred_xyzs:\n",
    "            loss+=dRMAE(pred_xyz,pred_xyz,gt_xyz,gt_xyz) \n",
    "            loss+=align_svd_mae(pred_xyz, gt_xyz)\n",
    "             #local_dRMSD(pred_xyz,pred_xyz,gt_xyz,gt_xyz)\n",
    "\n",
    "        \n",
    "        (loss/batch_size).backward()\n",
    "\n",
    "        if (idx+1)%batch_size==0 or idx+1 == len(tbar):\n",
    "\n",
    "            torch.nn.utils.clip_grad_norm_(model.parameters(), 1)\n",
    "            optimizer.step()\n",
    "            optimizer.zero_grad()\n",
    "            # scaler.scale(loss/batch_size).backward()\n",
    "            # scaler.unscale_(optimizer)\n",
    "            # torch.nn.utils.clip_grad_norm_(model.parameters(), 1)\n",
    "            # scaler.step(optimizer)\n",
    "            # scaler.update()\n",
    "\n",
    "            \n",
    "            if (epoch+1)>cos_epoch:\n",
    "                schedule.step()\n",
    "        #schedule.step()\n",
    "        total_loss+=loss.item()\n",
    "        \n",
    "        tbar.set_description(f\"Epoch {epoch + 1} Loss: {total_loss/(idx+1)} OOMs: {oom}\")\n",
    "\n",
    "\n",
    "\n",
    "        # except Exception:\n",
    "        #     #print(Exception)\n",
    "        #     oom+=1\n",
    "    tbar=tqdm(val_loader)\n",
    "    model.eval()\n",
    "    val_preds=[]\n",
    "    val_loss=0\n",
    "    for idx, batch in enumerate(tbar):\n",
    "        sequence=batch['sequence'].cuda()\n",
    "        gt_xyz=batch['xyz'].cuda().squeeze()\n",
    "\n",
    "        with torch.no_grad():\n",
    "            pred_xyz=model(sequence)[-1].squeeze()\n",
    "            loss=dRMAE(pred_xyz,pred_xyz,gt_xyz,gt_xyz)\n",
    "            \n",
    "        val_loss+=loss.item()\n",
    "        val_preds.append([gt_xyz.cpu().numpy(),pred_xyz.cpu().numpy()])\n",
    "    val_loss=val_loss/len(tbar)\n",
    "    print(f\"val loss: {val_loss}\")\n",
    "    \n",
    "    \n",
    "    \n",
    "    if val_loss<best_val_loss:\n",
    "        best_val_loss=val_loss\n",
    "        best_preds=val_preds\n",
    "        torch.save(model.state_dict(),'RibonanzaNet-3D.pt')\n",
    "\n",
    "    # 1.053595052265986 train loss after epoch 0\n",
    "torch.save(model.state_dict(),'RibonanzaNet-3D-final.pt')"
   ]
  }
 ],
 "metadata": {
  "kaggle": {
   "accelerator": "gpu",
   "dataSources": [
    {
     "databundleVersionId": 11403143,
     "sourceId": 87793,
     "sourceType": "competition"
    },
    {
     "datasetId": 4299272,
     "sourceId": 7639698,
     "sourceType": "datasetVersion"
    },
    {
     "datasetId": 4459124,
     "sourceId": 8318191,
     "sourceType": "datasetVersion"
    }
   ],
   "isGpuEnabled": true,
   "isInternetEnabled": true,
   "language": "python",
   "sourceType": "notebook"
  },
  "kernelspec": {
   "display_name": "ML",
   "language": "python",
   "name": "python3"
  },
  "language_info": {
   "codemirror_mode": {
    "name": "ipython",
    "version": 3
   },
   "file_extension": ".py",
   "mimetype": "text/x-python",
   "name": "python",
   "nbconvert_exporter": "python",
   "pygments_lexer": "ipython3",
   "version": "3.10.12"
  },
  "papermill": {
   "default_parameters": {},
   "duration": 7627.414394,
   "end_time": "2025-03-19T06:44:52.100558",
   "environment_variables": {},
   "exception": null,
   "input_path": "__notebook__.ipynb",
   "output_path": "__notebook__.ipynb",
   "parameters": {},
   "start_time": "2025-03-19T04:37:44.686164",
   "version": "2.6.0"
  }
 },
 "nbformat": 4,
 "nbformat_minor": 5
}
