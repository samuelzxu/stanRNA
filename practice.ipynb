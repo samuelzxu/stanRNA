{
 "cells": [
  {
   "cell_type": "code",
   "execution_count": 1,
   "metadata": {},
   "outputs": [
    {
     "data": {
      "text/plain": [
       "tensor([[ 1.5346,  2.4426, -0.0198],\n",
       "        [-7.8947,  5.5144, -9.4002]])"
      ]
     },
     "execution_count": 1,
     "metadata": {},
     "output_type": "execute_result"
    }
   ],
   "source": [
    "import torch\n"
   ]
  },
  {
   "cell_type": "code",
   "execution_count": 2,
   "metadata": {},
   "outputs": [
    {
     "data": {
      "text/plain": [
       "tensor(-1.3542)"
      ]
     },
     "execution_count": 2,
     "metadata": {},
     "output_type": "execute_result"
    }
   ],
   "source": [
    "\n",
    "# trace\n",
    "torch.einsum('ii', torch.randn(4, 4))\n",
    "\n"
   ]
  },
  {
   "cell_type": "code",
   "execution_count": 13,
   "metadata": {},
   "outputs": [
    {
     "data": {
      "text/plain": [
       "tensor([6., 6., 6., 6., 6., 6.])"
      ]
     },
     "execution_count": 13,
     "metadata": {},
     "output_type": "execute_result"
    }
   ],
   "source": [
    "torch.einsum('iik->i',torch.ones(6, 6, 6))"
   ]
  },
  {
   "cell_type": "code",
   "execution_count": null,
   "metadata": {},
   "outputs": [],
   "source": [
    "torch"
   ]
  },
  {
   "cell_type": "code",
   "execution_count": null,
   "metadata": {},
   "outputs": [],
   "source": [
    "\n",
    "# diagonal\n",
    "torch.einsum('ii->i', torch.randn(4, 4))\n",
    "\n",
    "# outer product\n",
    "x = torch.randn(5)\n",
    "y = torch.randn(4)\n",
    "torch.einsum('i,j->ij', x, y)\n",
    "\n",
    "# batch matrix multiplication\n",
    "As = torch.randn(3, 2, 5)\n",
    "Bs = torch.randn(3, 5, 4)\n",
    "torch.einsum('bij,bjk->bik', As, Bs)\n",
    "\n",
    "\n",
    "\n",
    "# with sublist format and ellipsis\n",
    "torch.einsum(As, [..., 0, 1], Bs, [..., 1, 2], [..., 0, 2])\n",
    "\n",
    "\n",
    "\n",
    "# batch permute\n",
    "A = torch.randn(2, 3, 4, 5)\n",
    "torch.einsum('...ij->...ji', A).shape\n",
    "\n",
    "# equivalent to torch.nn.functional.bilinear\n",
    "A = torch.randn(3, 5, 4)\n",
    "l = torch.randn(2, 5)\n",
    "r = torch.randn(2, 4)\n",
    "torch.einsum('bn,anm,bm->ba', l, A, r)"
   ]
  },
  {
   "cell_type": "code",
   "execution_count": null,
   "metadata": {},
   "outputs": [],
   "source": []
  }
 ],
 "metadata": {
  "kernelspec": {
   "display_name": "ML",
   "language": "python",
   "name": "python3"
  },
  "language_info": {
   "codemirror_mode": {
    "name": "ipython",
    "version": 3
   },
   "file_extension": ".py",
   "mimetype": "text/x-python",
   "name": "python",
   "nbconvert_exporter": "python",
   "pygments_lexer": "ipython3",
   "version": "3.10.12"
  }
 },
 "nbformat": 4,
 "nbformat_minor": 2
}
